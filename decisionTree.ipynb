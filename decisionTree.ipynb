{
  "nbformat": 4,
  "nbformat_minor": 0,
  "metadata": {
    "colab": {
      "provenance": []
    },
    "kernelspec": {
      "name": "python3",
      "display_name": "Python 3"
    },
    "language_info": {
      "name": "python"
    }
  },
  "cells": [
    {
      "cell_type": "markdown",
      "source": [
        "DECISION TREE"
      ],
      "metadata": {
        "id": "CBAD-4LHdier"
      }
    },
    {
      "cell_type": "markdown",
      "source": [
        "sample dataset for play tenis:"
      ],
      "metadata": {
        "id": "JeKQp4Jvdvt_"
      }
    },
    {
      "cell_type": "code",
      "source": [
        "import math"
      ],
      "metadata": {
        "id": "M1ucsAMdgoLP"
      },
      "execution_count": 18,
      "outputs": []
    },
    {
      "cell_type": "code",
      "execution_count": 16,
      "metadata": {
        "id": "5fmJ9HaAdbq_"
      },
      "outputs": [],
      "source": [
        "data = [\n",
        "    ('Sunny', 'Hot', 'High', 'Weak', 'No'),\n",
        "    ('Sunny', 'Hot', 'High', 'Strong', 'No'),\n",
        "    ('Overcast', 'Hot', 'High', 'Weak', 'Yes'),\n",
        "    ('Rainy', 'Mild', 'High', 'Weak', 'Yes'),\n",
        "    ('Rainy', 'Cool', 'Normal', 'Weak', 'Yes'),\n",
        "    ('Rainy', 'Cool', 'Normal', 'Strong', 'No'),\n",
        "    ('Overcast', 'Cool', 'Normal', 'Strong', 'Yes'),\n",
        "    ('Sunny', 'Mild', 'High', 'Weak', 'No'),\n",
        "    ('Sunny', 'Cool', 'Normal', 'Weak', 'Yes'),\n",
        "    ('Rainy', 'Mild', 'Normal', 'Weak', 'Yes'),\n",
        "    ('Sunny', 'Mild', 'Normal', 'Strong', 'Yes'),\n",
        "    ('Overcast', 'Mild', 'High', 'Strong', 'Yes'),\n",
        "    ('Overcast', 'Hot', 'Normal', 'Weak', 'Yes'),\n",
        "    ('Rainy', 'Mild', 'High', 'Strong', 'No')\n",
        "]\n",
        "# Sample attributes\n",
        "attributes = ['Outlook', 'Temperature', 'Humidity', 'Wind']"
      ]
    },
    {
      "cell_type": "markdown",
      "source": [
        "function to calculate entropy:"
      ],
      "metadata": {
        "id": "FXROhHQpeWTe"
      }
    },
    {
      "cell_type": "code",
      "source": [
        "def calculate_entropy(data):\n",
        "    total = len(data)\n",
        "    yes_count = sum(1 for _, _, _, _, play in data if play == 'Yes')\n",
        "    no_count = total - yes_count\n",
        "\n",
        "    if yes_count == 0 or no_count == 0:\n",
        "        return 0\n",
        "\n",
        "    p_yes = yes_count / total\n",
        "    p_no = no_count / total\n",
        "    # Calculate and return entropy using the formula\n",
        "    entropy = -p_yes * math.log2(p_yes) - p_no * math.log2(p_no)\n",
        "    return entropy\n"
      ],
      "metadata": {
        "id": "83ST238md2_f"
      },
      "execution_count": 12,
      "outputs": []
    },
    {
      "cell_type": "markdown",
      "source": [
        "function to calculate information gain:"
      ],
      "metadata": {
        "id": "bPzetOe2f1EI"
      }
    },
    {
      "cell_type": "code",
      "source": [
        "def calculate_information_gain(data, attribute_idx):\n",
        "    total = len(data)\n",
        "    entropy_parent = calculate_entropy(data)\n",
        "\n",
        "    values = set(row[attribute_idx] for row in data)\n",
        "    weighted_entropy_children = 0\n",
        "\n",
        "    for value in values:\n",
        "        subset = [row for row in data if row[attribute_idx] == value]\n",
        "        weight = len(subset) / total\n",
        "        weighted_entropy_children += weight * calculate_entropy(subset)\n",
        "\n",
        "    # Calculate and return information gain using the formula\n",
        "    information_gain = entropy_parent - weighted_entropy_children\n",
        "    return information_gain\n"
      ],
      "metadata": {
        "id": "OMqYXpfMewvi"
      },
      "execution_count": 1,
      "outputs": []
    },
    {
      "cell_type": "markdown",
      "source": [
        "function to find the attribute with maximum information gain to be the decision trees root node:"
      ],
      "metadata": {
        "id": "0zJrj146f-SK"
      }
    },
    {
      "cell_type": "code",
      "source": [
        "def find_best_attribute(data, attributes):\n",
        "    num_attributes = len(attributes)\n",
        "    best_attribute_idx = None\n",
        "    max_information_gain = -1\n",
        "\n",
        "    for attribute_idx in range(num_attributes):\n",
        "        information_gain = calculate_information_gain(data, attribute_idx)\n",
        "         # Update the best attribute if the current information gain is higher\n",
        "        if information_gain > max_information_gain:\n",
        "            max_information_gain = information_gain\n",
        "            best_attribute_idx = attribute_idx\n",
        "\n",
        "    return best_attribute_idx"
      ],
      "metadata": {
        "id": "V2ocarBufe0x"
      },
      "execution_count": 14,
      "outputs": []
    },
    {
      "cell_type": "code",
      "source": [
        "\n",
        "\n",
        "# Calculate information gain for each attribute\n",
        "for attribute_idx, attribute in enumerate(attributes):\n",
        "    information_gain = calculate_information_gain(data, attribute_idx)\n",
        "    print(f\"Information Gain for {attribute}: {information_gain}\")\n",
        "\n",
        "# Find and print the root node (best attribute)\n",
        "best_attribute_idx = find_best_attribute(data, attributes)\n",
        "root_node = attributes[best_attribute_idx]\n",
        "print(f\"Root Node (Best Attribute): {root_node}\")"
      ],
      "metadata": {
        "colab": {
          "base_uri": "https://localhost:8080/"
        },
        "id": "a6oDjtQJfj_L",
        "outputId": "02b81aaf-c0ee-46ba-e226-1e1937441aec"
      },
      "execution_count": 17,
      "outputs": [
        {
          "output_type": "stream",
          "name": "stdout",
          "text": [
            "Information Gain for Outlook: 0.24674981977443933\n",
            "Information Gain for Temperature: 0.02922256565895487\n",
            "Information Gain for Humidity: 0.15183550136234159\n",
            "Information Gain for Wind: 0.04812703040826949\n",
            "Root Node (Best Attribute): Outlook\n"
          ]
        }
      ]
    }
  ]
}